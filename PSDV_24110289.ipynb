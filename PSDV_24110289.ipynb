{
 "cells": [
  {
   "cell_type": "markdown",
   "id": "c1aa6206-b3fe-4bde-9c02-90ec785cc37e",
   "metadata": {},
   "source": [
    "Dishant Ranparia\n",
    "24110289"
   ]
  },
  {
   "cell_type": "markdown",
   "id": "21069b41-5165-4bb9-b983-f6c8516c7472",
   "metadata": {},
   "source": [
    "Q1"
   ]
  },
  {
   "cell_type": "code",
   "execution_count": null,
   "id": "f8181b0e-5b09-42af-a4e3-12a2f2a1751d",
   "metadata": {},
   "outputs": [],
   "source": [
    "def add(lst):\n",
    "    sum = 0\n",
    "    for i in lst:\n",
    "        if i%2 ==0:\n",
    "            sum += i\n",
    "    return sum\n",
    "\n",
    "def product(lst):\n",
    "    pro = 1\n",
    "    for i in lst:\n",
    "        if i%2 !=0:\n",
    "            pro  = pro* i\n",
    "    return pro\n",
    "\n",
    "def mean(lst):\n",
    "    s = 0\n",
    "    for i in lst:\n",
    "        s+=i\n",
    "    return s/len(lst)\n",
    "\n",
    "def median(lst):\n",
    "    if len(lst)%2 ==0:\n",
    "        return (lst[int(len(lst)/2)] + lst[int((len(lst))/2 + 1)])/2\n",
    "    else:\n",
    "        return lst[(len(lst)+1)/2]\n",
    "\n",
    "def std_dev(lst):\n",
    "    x=0\n",
    "    for i in lst:\n",
    "        x += (i-mean(lst))**2\n",
    "    return (x/len(lst))**0.5\n",
    "\n",
    "nums = list(range(1,21,1))\n",
    "\n",
    "print(\"Sum:\",add(nums))\n",
    "print(\"Product:\",product(nums))\n",
    "print(\"Mean:\",mean(nums))\n",
    "print(\"Median: \",median(nums))\n",
    "print(\"Standard Deviation:\",std_dev(nums))"
   ]
  },
  {
   "cell_type": "markdown",
   "id": "97525683-c836-4964-9a5a-0514ba22a22c",
   "metadata": {},
   "source": [
    "Q2"
   ]
  },
  {
   "cell_type": "code",
   "execution_count": null,
   "id": "31d43798-2fe1-4962-b0e8-d2b71274f62c",
   "metadata": {},
   "outputs": [],
   "source": [
    "print('''\n",
    "Mutable     : These are data types ehose values can be changed without changing the bject id. E.g: Lists, Dictionaries,sets\n",
    "      \n",
    "Immutable   : Their Value cannot be changed without changing the object id. E.g: int,foat,tuples\n",
    "''')"
   ]
  },
  {
   "cell_type": "markdown",
   "id": "3fa767a6-1d75-4efb-9349-3c079a9e2dbb",
   "metadata": {},
   "source": [
    "Q3"
   ]
  },
  {
   "cell_type": "code",
   "execution_count": null,
   "id": "4f6d2601-df91-443b-97d8-f5d81b5a7f45",
   "metadata": {},
   "outputs": [],
   "source": [
    "def fibonacci(n):\n",
    "    fib = [1,1]\n",
    "    for i in range(2,n):\n",
    "        fib.append(fib[i-1] + fib[i-2])\n",
    "    return fib\n",
    "\n",
    "n = int(input())\n",
    "\n",
    "print(fibonacci(n))"
   ]
  },
  {
   "cell_type": "markdown",
   "id": "0c6c82d8-e69e-4d1e-ae9c-ddd7626c6e16",
   "metadata": {},
   "source": [
    "Q4"
   ]
  },
  {
   "cell_type": "code",
   "execution_count": null,
   "id": "0f48eee2-b4ea-4c98-b5cc-d24dd5c0d7a8",
   "metadata": {},
   "outputs": [],
   "source": [
    "import statistics\n",
    "\n",
    "lst = [3, 5, 7, 9, 11, 13]\n",
    "print(\"Original List:\",lst)\n",
    "lst.insert(2,6)\n",
    "print(\"Inserted:\",lst)\n",
    "lst.remove(7)\n",
    "print(\"Removed:\",lst)\n",
    "\n",
    "print(statistics.mean(lst))\n",
    "print(statistics.median(lst))"
   ]
  },
  {
   "cell_type": "markdown",
   "id": "fcef5783-5eef-4710-90fe-58d6f74d922f",
   "metadata": {},
   "source": [
    "Q5"
   ]
  },
  {
   "cell_type": "code",
   "execution_count": null,
   "id": "954bb805-7852-4c48-ad32-3eeeab3883b0",
   "metadata": {},
   "outputs": [],
   "source": [
    "import statistics\n",
    "import matplotlib.pyplot\n",
    "\n",
    "inp = input()\n",
    "lst = inp.split(\",\")\n",
    "for i,num in enumerate(lst):\n",
    "    lst[i] = int(num)\n",
    "print(\"Mean:\", statistics.mean(lst))\n",
    "lst.sort()\n",
    "print(\"smallest:\",lst[0])\n",
    "print(\"largest:\",lst[-1])\n",
    "\n",
    "print(matplotlib.pyplot.hist(lst))\n",
    "matplotlib.pyplot.show()\n"
   ]
  },
  {
   "cell_type": "markdown",
   "id": "1a95fd1b-04ef-4cb5-b655-48cac1bc21cc",
   "metadata": {},
   "source": [
    "Q6"
   ]
  },
  {
   "cell_type": "code",
   "execution_count": null,
   "id": "ac860b7b-48c2-4d33-ac7f-8ec03754d726",
   "metadata": {},
   "outputs": [],
   "source": [
    "x = input()\n",
    "\n",
    "x = x.replace(\" \",\"\").lower()\n",
    "y = x[::-1]\n",
    "\n",
    "if x == y:\n",
    "    print(bool(1))\n",
    "else:\n",
    "    print(bool(0))"
   ]
  },
  {
   "cell_type": "markdown",
   "id": "b35ca18b-8260-4b9a-9fee-bd894fc0fbb0",
   "metadata": {},
   "source": [
    "Q7"
   ]
  },
  {
   "cell_type": "code",
   "execution_count": null,
   "id": "54c4c9f5-2c05-4809-9206-b7a803b16ce7",
   "metadata": {},
   "outputs": [],
   "source": [
    "import matplotlib.pyplot as plt\n",
    "\n",
    "marks = {\"Dishant\":7.6, \"Pratham\":9.4,\"Vansh\":10,\"Kavyansh\":8.7}\n",
    "\n",
    "mean = 0\n",
    "for j in marks.values():\n",
    "    mean += j/len(marks)\n",
    "\n",
    "print(\"Mean\",mean)\n",
    "\n",
    "for i in marks:\n",
    "    if marks[i] >= mean:\n",
    "        print(i)\n",
    "\n",
    "keys = marks.keys()\n",
    "values = marks.values()\n",
    "\n",
    "plt.plot(keys,values)\n",
    "plt.show()"
   ]
  },
  {
   "cell_type": "markdown",
   "id": "46191184-7389-4c54-ac9d-a4b1e7b09ded",
   "metadata": {},
   "source": [
    "Q8"
   ]
  },
  {
   "cell_type": "code",
   "execution_count": null,
   "id": "7557c759-a0ea-4d61-b536-6f9313f07329",
   "metadata": {},
   "outputs": [],
   "source": [
    "print([(y,y**2) for y in range(1,11)])"
   ]
  },
  {
   "cell_type": "markdown",
   "id": "9b0bc78e-544e-4c7d-9724-e85d41f45a1d",
   "metadata": {},
   "source": [
    "Q9"
   ]
  },
  {
   "cell_type": "code",
   "execution_count": null,
   "id": "90f52b5a-b3c8-48bf-996b-38dbac162a5c",
   "metadata": {},
   "outputs": [],
   "source": [
    "dict1 = {'a': 10, 'b': 20}\n",
    "dict2 = {'b': 5, 'c': 15}\n",
    "\n",
    "common_keys = list(dict1.keys() & dict2.keys())\n",
    "\n",
    "new_dict = dict1.copy()\n",
    "new_dict.update(dict2)\n",
    "\n",
    "for i in common_keys:\n",
    "    new_dict[i] = dict1[i] + dict2[i]\n",
    "\n",
    "print(new_dict)"
   ]
  },
  {
   "cell_type": "markdown",
   "id": "ecc587e8-cea3-4f0a-afc7-bef4af6b02db",
   "metadata": {},
   "source": [
    "Q10"
   ]
  },
  {
   "cell_type": "code",
   "execution_count": null,
   "id": "f6ef7e4c-0e80-4f32-bf10-709d14e82713",
   "metadata": {},
   "outputs": [],
   "source": [
    "inp = input(\"Enter a string: \").lower()\n",
    "\n",
    "len_i = len(inp)\n",
    "frequency = {}\n",
    "\n",
    "for i in inp:\n",
    "    len_i = len(inp)\n",
    "    inp = inp.replace(i,\"\")\n",
    "    if i not in frequency.keys():\n",
    "        frequency.update({i:len_i-len(inp)})\n",
    "\n",
    "print(frequency)"
   ]
  },
  {
   "cell_type": "markdown",
   "id": "57f90601-82d6-46bd-afa9-7618c4b98c8a",
   "metadata": {},
   "source": [
    "Q11"
   ]
  },
  {
   "cell_type": "code",
   "execution_count": null,
   "id": "66d9be82-429e-4f3a-ade0-bc8318dd2296",
   "metadata": {},
   "outputs": [],
   "source": [
    "import random\n",
    "\n",
    "lst = []\n",
    "\n",
    "for i in range(10):\n",
    "    lst.append(random.randint(0,5))\n",
    "\n",
    "print(lst)\n",
    "\n",
    "f_lst =  []\n",
    "for i in range(10):\n",
    "    x = lst[i]\n",
    "    if x not in f_lst:\n",
    "        f_lst.append(x)\n",
    "\n",
    "print(f_lst)\n"
   ]
  },
  {
   "cell_type": "markdown",
   "id": "e8b92ee7-1448-48b0-8d97-537935b3a996",
   "metadata": {},
   "source": [
    "Q12"
   ]
  },
  {
   "cell_type": "code",
   "execution_count": null,
   "id": "dadc3bb4-dce7-4fd4-a8ef-ab6d318b1a38",
   "metadata": {},
   "outputs": [],
   "source": [
    "random_strings = [\"apple\", \"banana\", \"cherry\", \"delta\", \"echo\", \"falcon\", \"gamma\", \"hotel\", \"india\", \"juliet\"]\n",
    "vowels = [\"a\",\"e\",\"i\",\"o\",\"u\"]\n",
    "\n",
    "random_strings.sort(key=len,reverse=True)\n",
    "print(\"The longest string is:\",random_strings[0])\n",
    "\n",
    "count = 0\n",
    "\n",
    "for x in random_strings:\n",
    "    if x[0] in vowels:\n",
    "        count += 1\n",
    "\n",
    "print(\"No of strings starting with vowels is\",count)"
   ]
  },
  {
   "cell_type": "markdown",
   "id": "f91912ef-8934-4b9d-bebc-1e77f294acd6",
   "metadata": {},
   "source": [
    "Q14"
   ]
  },
  {
   "cell_type": "code",
   "execution_count": null,
   "id": "9d003f46-4fda-4a93-91c4-f8b457ae79a2",
   "metadata": {},
   "outputs": [],
   "source": [
    "random_string = \"Here's a similar list with 10 elements, following the structure of your given data\"\n",
    "lst = random_string.split(\" \",-1)\n",
    "print(lst)\n",
    "lst2 = lst[:]\n",
    "\n",
    "for x in range(len(lst)):\n",
    "    print(x,lst[x])\n",
    "    if len(lst[x]) < 5:\n",
    "        lst2.remove(lst[x])\n",
    "\n",
    "print(lst2)"
   ]
  },
  {
   "cell_type": "markdown",
   "id": "b7eaa749-1a04-41e9-9b0b-180ecf02a30b",
   "metadata": {},
   "source": [
    "Q15"
   ]
  },
  {
   "cell_type": "code",
   "execution_count": null,
   "id": "3ba0fbab-837f-44a9-b40c-9ff11dedd2f0",
   "metadata": {},
   "outputs": [],
   "source": [
    "import random\n",
    "\n",
    "inp = input()\n",
    "\n",
    "inp = inp.replace(\"=\",\"\").replace(\",\",\"\")\n",
    "print(inp)\n",
    "lst = inp.split()\n",
    "print(lst)\n",
    "lst.remove(\"word\") , lst.remove(\"words\")\n",
    "print(lst)\n",
    "\n",
    "for x,y in enumerate(lst):\n",
    "    lst[x] = y.strip(\"[\").strip(\"]\").strip('\"')\n",
    "\n",
    "print(lst)\n",
    "\n",
    "original_word = lst.pop(0)\n",
    "original_word_list = list(original_word)\n",
    "random.shuffle(original_word_list)\n"
   ]
  },
  {
   "cell_type": "markdown",
   "id": "78910a4d-5ad0-42e9-857b-21d23aab2e6f",
   "metadata": {},
   "source": [
    "Q16"
   ]
  },
  {
   "cell_type": "code",
   "execution_count": null,
   "id": "92f1d4b0-0735-497b-a7f0-a3aa155ff4c4",
   "metadata": {},
   "outputs": [],
   "source": [
    "list1 = ['apple', 'banana', 'cherry', 'date', 'elderberry']\n",
    "list2 = ['kiwi', 'banana', 'pear', 'pineapple', 'apple']\n",
    "\n",
    "print(\"Common:\",list(set(list1) & set(list2)))\n",
    "print(\"Union:\",list(set(list1) | set(list2)))\n",
    "print(\"Symmetric Difference:\", list((set(list1) | set(list2))-(set(list1) & set(list2))))"
   ]
  },
  {
   "cell_type": "markdown",
   "id": "87b9a979-22ce-4541-b965-ada88241a4fa",
   "metadata": {},
   "source": [
    "Q17"
   ]
  },
  {
   "cell_type": "code",
   "execution_count": null,
   "id": "40db138e-32c2-4bb5-bffb-1279aef37617",
   "metadata": {},
   "outputs": [],
   "source": [
    "def sum(lst: list) -> int:\n",
    "    sum = 0\n",
    "    for i in lst:\n",
    "        sum += i\n",
    "    return sum\n",
    "\n",
    "import numpy as np\n",
    "\n",
    "file = open(\"Niggachu.txt\",\"w+\")\n",
    "\n",
    "lst = list(np.random.randint(1,11,size=10))\n",
    "\n",
    "for i in lst:\n",
    "    file.write(str(i)+\"\\n\")\n",
    "file.seek(0)\n",
    "print(file.read())\n",
    "print(\"Sum:\",sum(lst))"
   ]
  },
  {
   "cell_type": "markdown",
   "id": "954e55df-9daf-48d1-8c1f-3ffd5fc392eb",
   "metadata": {},
   "source": [
    "Q18"
   ]
  },
  {
   "cell_type": "code",
   "execution_count": null,
   "id": "507db7ed-168a-4a4c-8b72-935e70cdb57f",
   "metadata": {},
   "outputs": [],
   "source": [
    "file = open(\"test.txt\",\"r+\")\n",
    "\n",
    "text = file.read()\n",
    "text_words = text.split()\n",
    "print(\"the number of words in the file is\",len(text_words))\n",
    "frequency = {}\n",
    "count = 0\n",
    "txt_wrds = text_words[:]\n",
    "\n",
    "while True:\n",
    "    try:\n",
    "        for x in text_words:\n",
    "            for y in text_words:\n",
    "                if x==y:\n",
    "                    count+=1\n",
    "                    text_words.remove(x)\n",
    "            frequency.update({x:count})\n",
    "            if x==y==txt_wrds[-1]:\n",
    "                break\n",
    "    except ValueError:\n",
    "        pass\n",
    "print(frequency)"
   ]
  }
 ],
 "metadata": {
  "kernelspec": {
   "display_name": "Python 3 (ipykernel)",
   "language": "python",
   "name": "python3"
  },
  "language_info": {
   "codemirror_mode": {
    "name": "ipython",
    "version": 3
   },
   "file_extension": ".py",
   "mimetype": "text/x-python",
   "name": "python",
   "nbconvert_exporter": "python",
   "pygments_lexer": "ipython3",
   "version": "3.12.5"
  }
 },
 "nbformat": 4,
 "nbformat_minor": 5
}
